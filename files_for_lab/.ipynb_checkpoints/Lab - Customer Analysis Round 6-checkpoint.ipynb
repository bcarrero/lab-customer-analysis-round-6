{
 "cells": [
  {
   "cell_type": "markdown",
   "metadata": {},
   "source": [
    "## Lab | Customer Analysis Round 6\n",
    "\n",
    "For this lab, we still keep using the marketing_customer_analysis.csv file that you can find in the files_for_lab folder.\n",
    "Get the data\n",
    "\n",
    "We are using the marketing_customer_analysis.csv file.\n",
    "Dealing with the data\n",
    "\n",
    "Already done in the round 2.\n",
    "Explore the data\n",
    "\n",
    "Done in the round 3.\n",
    "Processing Data\n",
    "\n",
    "(Further processing...)\n",
    "\n",
    "    X-y split. (done)\n",
    "    Normalize (numerical). (done)\n",
    "    One Hot/Label Encoding (categorical).\n",
    "    Concat DataFrames\n",
    "\n",
    "Linear Regression\n",
    "\n",
    "    Train-test split.\n",
    "    Apply linear regression.\n",
    "\n",
    "Model Validation\n",
    "\n",
    "    Description:\n",
    "        R2.\n",
    "        MSE.\n",
    "        RMSE.\n",
    "        MAE.\n"
   ]
  },
  {
   "cell_type": "code",
   "execution_count": 1,
   "metadata": {},
   "outputs": [],
   "source": [
    "# libraries\n",
    "import pandas as pd\n",
    "import matplotlib.pyplot as plt\n",
    "import seaborn as sns\n",
    "%matplotlib inline\n",
    "from scipy.stats import norm\n",
    "from scipy.stats import skew\n",
    "from scipy import stats\n",
    "import math\n",
    "import numpy as np\n",
    "from sklearn.preprocessing import Normalizer\n",
    "from sklearn.preprocessing import OneHotEncoder\n"
   ]
  },
  {
   "cell_type": "code",
   "execution_count": 2,
   "metadata": {},
   "outputs": [],
   "source": [
    "marketing_customer_analysis = pd.read_csv('marketing_customer_analysis.csv')"
   ]
  },
  {
   "cell_type": "code",
   "execution_count": null,
   "metadata": {},
   "outputs": [],
   "source": [
    "# done in lab 5"
   ]
  }
 ],
 "metadata": {
  "kernelspec": {
   "display_name": "Python 3",
   "language": "python",
   "name": "python3"
  },
  "language_info": {
   "codemirror_mode": {
    "name": "ipython",
    "version": 3
   },
   "file_extension": ".py",
   "mimetype": "text/x-python",
   "name": "python",
   "nbconvert_exporter": "python",
   "pygments_lexer": "ipython3",
   "version": "3.7.4"
  }
 },
 "nbformat": 4,
 "nbformat_minor": 2
}
